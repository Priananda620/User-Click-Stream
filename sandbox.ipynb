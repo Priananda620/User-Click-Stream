{
 "cells": [
  {
   "cell_type": "code",
   "execution_count": 1,
   "metadata": {},
   "outputs": [],
   "source": [
    "import os\n",
    "import pandas as pd\n",
    "import matplotlib.pyplot as plt\n",
    "import seaborn as sns\n",
    "from datetime import datetime\n",
    "from sklearn.cluster import KMeans\n",
    "from sklearn.preprocessing import StandardScaler\n",
    "from sklearn.preprocessing import LabelEncoder\n",
    "from sklearn.metrics import silhouette_score\n",
    "from sklearn.decomposition import PCA\n"
   ]
  },
  {
   "cell_type": "code",
   "execution_count": 2,
   "metadata": {},
   "outputs": [],
   "source": [
    "\n",
    "# Directory containing CSV files\n",
    "data_directory = 'data'\n",
    "\n",
    "# List to store DataFrames from each CSV file\n",
    "dfs = []\n",
    "\n",
    "# Iterate over CSV files in the directory\n",
    "for filename in os.listdir(data_directory):\n",
    "    if filename.endswith('.csv'):\n",
    "        file_path = os.path.join(data_directory, filename)\n",
    "        # Read the CSV file into a DataFrame\n",
    "        df = pd.read_csv(file_path)\n",
    "        # Append the DataFrame to the list\n",
    "        dfs.append(df)\n",
    "\n",
    "# Concatenate all DataFrames in the list\n",
    "final_df = pd.concat(dfs, ignore_index=True)\n"
   ]
  },
  {
   "cell_type": "code",
   "execution_count": 3,
   "metadata": {},
   "outputs": [
    {
     "data": {
      "text/html": [
       "<div>\n",
       "<style scoped>\n",
       "    .dataframe tbody tr th:only-of-type {\n",
       "        vertical-align: middle;\n",
       "    }\n",
       "\n",
       "    .dataframe tbody tr th {\n",
       "        vertical-align: top;\n",
       "    }\n",
       "\n",
       "    .dataframe thead th {\n",
       "        text-align: right;\n",
       "    }\n",
       "</style>\n",
       "<table border=\"1\" class=\"dataframe\">\n",
       "  <thead>\n",
       "    <tr style=\"text-align: right;\">\n",
       "      <th></th>\n",
       "      <th>user_id</th>\n",
       "      <th>timestamp</th>\n",
       "      <th>cctv_location</th>\n",
       "    </tr>\n",
       "  </thead>\n",
       "  <tbody>\n",
       "    <tr>\n",
       "      <th>0</th>\n",
       "      <td>user-1</td>\n",
       "      <td>2023-12-01 08:15:00</td>\n",
       "      <td>CCTV-5</td>\n",
       "    </tr>\n",
       "    <tr>\n",
       "      <th>1</th>\n",
       "      <td>user-1</td>\n",
       "      <td>2023-12-02 12:30:00</td>\n",
       "      <td>CCTV-5</td>\n",
       "    </tr>\n",
       "    <tr>\n",
       "      <th>2</th>\n",
       "      <td>user-1</td>\n",
       "      <td>2023-12-03 14:45:00</td>\n",
       "      <td>CCTV-5</td>\n",
       "    </tr>\n",
       "    <tr>\n",
       "      <th>3</th>\n",
       "      <td>user-1</td>\n",
       "      <td>2023-12-04 10:20:00</td>\n",
       "      <td>CCTV-5</td>\n",
       "    </tr>\n",
       "    <tr>\n",
       "      <th>4</th>\n",
       "      <td>user-1</td>\n",
       "      <td>2023-12-05 09:30:00</td>\n",
       "      <td>CCTV-5</td>\n",
       "    </tr>\n",
       "    <tr>\n",
       "      <th>5</th>\n",
       "      <td>user-1</td>\n",
       "      <td>2023-12-06 15:00:00</td>\n",
       "      <td>CCTV-10</td>\n",
       "    </tr>\n",
       "    <tr>\n",
       "      <th>6</th>\n",
       "      <td>user-1</td>\n",
       "      <td>2023-12-07 11:15:00</td>\n",
       "      <td>CCTV-25</td>\n",
       "    </tr>\n",
       "    <tr>\n",
       "      <th>7</th>\n",
       "      <td>user-1</td>\n",
       "      <td>2023-12-08 16:45:00</td>\n",
       "      <td>CCTV-17</td>\n",
       "    </tr>\n",
       "    <tr>\n",
       "      <th>8</th>\n",
       "      <td>user-1</td>\n",
       "      <td>2023-12-09 14:00:00</td>\n",
       "      <td>CCTV-40</td>\n",
       "    </tr>\n",
       "    <tr>\n",
       "      <th>9</th>\n",
       "      <td>user-1</td>\n",
       "      <td>2023-12-10 08:30:00</td>\n",
       "      <td>CCTV-30</td>\n",
       "    </tr>\n",
       "    <tr>\n",
       "      <th>10</th>\n",
       "      <td>user-2</td>\n",
       "      <td>2023-12-01 09:30:00</td>\n",
       "      <td>CCTV-8</td>\n",
       "    </tr>\n",
       "    <tr>\n",
       "      <th>11</th>\n",
       "      <td>user-2</td>\n",
       "      <td>2023-12-02 11:45:00</td>\n",
       "      <td>CCTV-8</td>\n",
       "    </tr>\n",
       "    <tr>\n",
       "      <th>12</th>\n",
       "      <td>user-2</td>\n",
       "      <td>2023-12-03 14:00:00</td>\n",
       "      <td>CCTV-8</td>\n",
       "    </tr>\n",
       "    <tr>\n",
       "      <th>13</th>\n",
       "      <td>user-2</td>\n",
       "      <td>2023-12-04 10:15:00</td>\n",
       "      <td>CCTV-8</td>\n",
       "    </tr>\n",
       "    <tr>\n",
       "      <th>14</th>\n",
       "      <td>user-2</td>\n",
       "      <td>2023-12-05 12:30:00</td>\n",
       "      <td>CCTV-8</td>\n",
       "    </tr>\n",
       "    <tr>\n",
       "      <th>15</th>\n",
       "      <td>user-2</td>\n",
       "      <td>2023-12-06 16:45:00</td>\n",
       "      <td>CCTV-22</td>\n",
       "    </tr>\n",
       "    <tr>\n",
       "      <th>16</th>\n",
       "      <td>user-2</td>\n",
       "      <td>2023-12-07 09:00:00</td>\n",
       "      <td>CCTV-18</td>\n",
       "    </tr>\n",
       "    <tr>\n",
       "      <th>17</th>\n",
       "      <td>user-2</td>\n",
       "      <td>2023-12-08 13:30:00</td>\n",
       "      <td>CCTV-35</td>\n",
       "    </tr>\n",
       "    <tr>\n",
       "      <th>18</th>\n",
       "      <td>user-2</td>\n",
       "      <td>2023-12-09 17:15:00</td>\n",
       "      <td>CCTV-11</td>\n",
       "    </tr>\n",
       "    <tr>\n",
       "      <th>19</th>\n",
       "      <td>user-2</td>\n",
       "      <td>2023-12-10 14:45:00</td>\n",
       "      <td>CCTV-15</td>\n",
       "    </tr>\n",
       "    <tr>\n",
       "      <th>20</th>\n",
       "      <td>user-3</td>\n",
       "      <td>2023-12-01 10:45:00</td>\n",
       "      <td>CCTV-15</td>\n",
       "    </tr>\n",
       "    <tr>\n",
       "      <th>21</th>\n",
       "      <td>user-3</td>\n",
       "      <td>2023-12-02 13:00:00</td>\n",
       "      <td>CCTV-15</td>\n",
       "    </tr>\n",
       "    <tr>\n",
       "      <th>22</th>\n",
       "      <td>user-3</td>\n",
       "      <td>2023-12-03 15:15:00</td>\n",
       "      <td>CCTV-15</td>\n",
       "    </tr>\n",
       "    <tr>\n",
       "      <th>23</th>\n",
       "      <td>user-3</td>\n",
       "      <td>2023-12-04 11:30:00</td>\n",
       "      <td>CCTV-15</td>\n",
       "    </tr>\n",
       "    <tr>\n",
       "      <th>24</th>\n",
       "      <td>user-3</td>\n",
       "      <td>2023-12-05 09:45:00</td>\n",
       "      <td>CCTV-15</td>\n",
       "    </tr>\n",
       "    <tr>\n",
       "      <th>25</th>\n",
       "      <td>user-3</td>\n",
       "      <td>2023-12-06 14:00:00</td>\n",
       "      <td>CCTV-3</td>\n",
       "    </tr>\n",
       "    <tr>\n",
       "      <th>26</th>\n",
       "      <td>user-3</td>\n",
       "      <td>2023-12-07 10:15:00</td>\n",
       "      <td>CCTV-48</td>\n",
       "    </tr>\n",
       "    <tr>\n",
       "      <th>27</th>\n",
       "      <td>user-3</td>\n",
       "      <td>2023-12-08 15:30:00</td>\n",
       "      <td>CCTV-29</td>\n",
       "    </tr>\n",
       "    <tr>\n",
       "      <th>28</th>\n",
       "      <td>user-3</td>\n",
       "      <td>2023-12-09 12:45:00</td>\n",
       "      <td>CCTV-42</td>\n",
       "    </tr>\n",
       "    <tr>\n",
       "      <th>29</th>\n",
       "      <td>user-3</td>\n",
       "      <td>2023-12-10 09:00:00</td>\n",
       "      <td>CCTV-20</td>\n",
       "    </tr>\n",
       "  </tbody>\n",
       "</table>\n",
       "</div>"
      ],
      "text/plain": [
       "   user_id            timestamp cctv_location\n",
       "0   user-1  2023-12-01 08:15:00        CCTV-5\n",
       "1   user-1  2023-12-02 12:30:00        CCTV-5\n",
       "2   user-1  2023-12-03 14:45:00        CCTV-5\n",
       "3   user-1  2023-12-04 10:20:00        CCTV-5\n",
       "4   user-1  2023-12-05 09:30:00        CCTV-5\n",
       "5   user-1  2023-12-06 15:00:00       CCTV-10\n",
       "6   user-1  2023-12-07 11:15:00       CCTV-25\n",
       "7   user-1  2023-12-08 16:45:00       CCTV-17\n",
       "8   user-1  2023-12-09 14:00:00       CCTV-40\n",
       "9   user-1  2023-12-10 08:30:00       CCTV-30\n",
       "10  user-2  2023-12-01 09:30:00        CCTV-8\n",
       "11  user-2  2023-12-02 11:45:00        CCTV-8\n",
       "12  user-2  2023-12-03 14:00:00        CCTV-8\n",
       "13  user-2  2023-12-04 10:15:00        CCTV-8\n",
       "14  user-2  2023-12-05 12:30:00        CCTV-8\n",
       "15  user-2  2023-12-06 16:45:00       CCTV-22\n",
       "16  user-2  2023-12-07 09:00:00       CCTV-18\n",
       "17  user-2  2023-12-08 13:30:00       CCTV-35\n",
       "18  user-2  2023-12-09 17:15:00       CCTV-11\n",
       "19  user-2  2023-12-10 14:45:00       CCTV-15\n",
       "20  user-3  2023-12-01 10:45:00       CCTV-15\n",
       "21  user-3  2023-12-02 13:00:00       CCTV-15\n",
       "22  user-3  2023-12-03 15:15:00       CCTV-15\n",
       "23  user-3  2023-12-04 11:30:00       CCTV-15\n",
       "24  user-3  2023-12-05 09:45:00       CCTV-15\n",
       "25  user-3  2023-12-06 14:00:00        CCTV-3\n",
       "26  user-3  2023-12-07 10:15:00       CCTV-48\n",
       "27  user-3  2023-12-08 15:30:00       CCTV-29\n",
       "28  user-3  2023-12-09 12:45:00       CCTV-42\n",
       "29  user-3  2023-12-10 09:00:00       CCTV-20"
      ]
     },
     "execution_count": 3,
     "metadata": {},
     "output_type": "execute_result"
    }
   ],
   "source": [
    "final_df"
   ]
  },
  {
   "cell_type": "code",
   "execution_count": 4,
   "metadata": {},
   "outputs": [],
   "source": [
    "final_df['timestamp'] = pd.to_datetime(final_df['timestamp'])\n",
    "final_df['date'] = final_df['timestamp'].dt.date\n",
    "final_df['minutes'] = final_df['timestamp'].dt.hour * 60 + final_df['timestamp'].dt.minute\n"
   ]
  },
  {
   "cell_type": "code",
   "execution_count": 5,
   "metadata": {},
   "outputs": [],
   "source": [
    "df = final_df"
   ]
  },
  {
   "cell_type": "code",
   "execution_count": 6,
   "metadata": {},
   "outputs": [],
   "source": [
    "le = LabelEncoder()\n",
    "df['encoded_user_id'] = le.fit_transform(df['user_id'])\n",
    "df['encoded_cctv_location'] = le.fit_transform(df['cctv_location'])"
   ]
  },
  {
   "cell_type": "markdown",
   "metadata": {},
   "source": [
    "Feat for cctv"
   ]
  },
  {
   "cell_type": "code",
   "execution_count": 7,
   "metadata": {},
   "outputs": [],
   "source": [
    "features = df[['encoded_user_id', 'encoded_cctv_location']]\n",
    "scaler = StandardScaler()\n",
    "features_standardized = scaler.fit_transform(features)\n"
   ]
  },
  {
   "cell_type": "markdown",
   "metadata": {},
   "source": [
    "feat for user id"
   ]
  },
  {
   "cell_type": "code",
   "execution_count": 8,
   "metadata": {},
   "outputs": [],
   "source": [
    "features2 = df[['encoded_user_id']]\n",
    "scaler2 = StandardScaler()\n",
    "features_standardized2 = scaler2.fit_transform(features2)\n"
   ]
  },
  {
   "cell_type": "markdown",
   "metadata": {},
   "source": [
    "Feat 1"
   ]
  },
  {
   "cell_type": "code",
   "execution_count": 9,
   "metadata": {},
   "outputs": [
    {
     "data": {
      "image/png": "[encoded data removed]",
      "text/plain": [
       "<Figure size 800x500 with 1 Axes>"
      ]
     },
     "metadata": {},
     "output_type": "display_data"
    }
   ],
   "source": [
    "# Apply PCA\n",
    "pca = PCA(n_components=1)\n",
    "pca_result = pca.fit_transform(features_standardized)\n",
    "\n",
    "# KMeans Elbow Method with the number of clusters equal to the number of unique CCTV locations\n",
    "num_clusters = len(df['cctv_location'].unique())\n",
    "wcss = []\n",
    "for i in range(1, num_clusters + 1):\n",
    "    kmeans = KMeans(n_clusters=i, init='k-means++', max_iter=300, n_init=10, random_state=0)\n",
    "    kmeans.fit(pca_result)  # Use the PCA result instead of standardized features\n",
    "    wcss.append(kmeans.inertia_)\n",
    "\n",
    "# Plotting the Elbow Method\n",
    "plt.figure(figsize=(8, 5))\n",
    "plt.plot(range(1, num_clusters + 1), wcss, marker='o', linestyle='--')\n",
    "plt.title('Elbow Method for Optimal K')\n",
    "plt.xlabel('Number of Clusters (K)')\n",
    "plt.ylabel('WCSS')\n",
    "plt.grid(True)\n",
    "plt.show()"
   ]
  },
  {
   "cell_type": "markdown",
   "metadata": {},
   "source": [
    "feat 2"
   ]
  },
  {
   "cell_type": "code",
   "execution_count": 10,
   "metadata": {},
   "outputs": [
    {
     "data": {
      "image/png": "[encoded data removed]",
      "text/plain": [
       "<Figure size 800x500 with 1 Axes>"
      ]
     },
     "metadata": {},
     "output_type": "display_data"
    }
   ],
   "source": [
    "# Apply PCA\n",
    "pca = PCA(n_components=1)\n",
    "pca_result = pca.fit_transform(features_standardized2)\n",
    "\n",
    "# KMeans Elbow Method with the number of clusters equal to the number of unique CCTV locations\n",
    "num_clusters = len(df['user_id'].unique())\n",
    "wcss = []\n",
    "for i in range(1, num_clusters + 1):\n",
    "    kmeans = KMeans(n_clusters=i, init='k-means++', max_iter=300, n_init=10, random_state=0)\n",
    "    kmeans.fit(pca_result)  # Use the PCA result instead of standardized features\n",
    "    wcss.append(kmeans.inertia_)\n",
    "\n",
    "# Plotting the Elbow Method\n",
    "plt.figure(figsize=(8, 5))\n",
    "plt.plot(range(1, num_clusters + 1), wcss, marker='o', linestyle='--')\n",
    "plt.title('Elbow Method for Optimal K')\n",
    "plt.xlabel('Number of Clusters (K)')\n",
    "plt.ylabel('WCSS')\n",
    "plt.grid(True)\n",
    "plt.show()"
   ]
  },
  {
   "cell_type": "code",
   "execution_count": 11,
   "metadata": {},
   "outputs": [
    {
     "data": {
      "text/plain": [
       "17"
      ]
     },
     "execution_count": 11,
     "metadata": {},
     "output_type": "execute_result"
    }
   ],
   "source": [
    "len(df['cctv_location'].unique())"
   ]
  },
  {
   "cell_type": "markdown",
   "metadata": {},
   "source": [
    "feat 1"
   ]
  },
  {
   "cell_type": "code",
   "execution_count": 12,
   "metadata": {},
   "outputs": [
    {
     "name": "stderr",
     "output_type": "stream",
     "text": [
      "/home/nanda/.local/lib/python3.10/site-packages/sklearn/cluster/_kmeans.py:1416: FutureWarning: The default value of `n_init` will change from 10 to 'auto' in 1.4. Set the value of `n_init` explicitly to suppress the warning\n",
      "  super()._check_params_vs_input(X, default_n_init=10)\n"
     ]
    }
   ],
   "source": [
    "# Using k-means clustering with k=3 (you can choose a different value based on your requirements)\n",
    "kmeans = KMeans(n_clusters=len(df['cctv_location'].unique()))\n",
    "df['cluster'] = kmeans.fit_predict(features_standardized)"
   ]
  },
  {
   "cell_type": "markdown",
   "metadata": {},
   "source": [
    "feat 2"
   ]
  },
  {
   "cell_type": "code",
   "execution_count": 13,
   "metadata": {},
   "outputs": [
    {
     "name": "stderr",
     "output_type": "stream",
     "text": [
      "/home/nanda/.local/lib/python3.10/site-packages/sklearn/cluster/_kmeans.py:1416: FutureWarning: The default value of `n_init` will change from 10 to 'auto' in 1.4. Set the value of `n_init` explicitly to suppress the warning\n",
      "  super()._check_params_vs_input(X, default_n_init=10)\n"
     ]
    }
   ],
   "source": [
    "# Using k-means clustering with k=3 (you can choose a different value based on your requirements)\n",
    "kmeans2 = KMeans(n_clusters=len(df['user_id'].unique()))\n",
    "df['cluster2'] = kmeans2.fit_predict(features_standardized2)"
   ]
  },
  {
   "cell_type": "markdown",
   "metadata": {},
   "source": [
    "feat 1"
   ]
  },
  {
   "cell_type": "code",
   "execution_count": 14,
   "metadata": {},
   "outputs": [
    {
     "name": "stdout",
     "output_type": "stream",
     "text": [
      "Silhouette Score: 0.538888869675337\n"
     ]
    }
   ],
   "source": [
    "silhouette_avg = silhouette_score(features_standardized, df['cluster'])\n",
    "print(f\"Silhouette Score: {silhouette_avg}\")"
   ]
  },
  {
   "cell_type": "markdown",
   "metadata": {},
   "source": [
    "feat 2"
   ]
  },
  {
   "cell_type": "code",
   "execution_count": 15,
   "metadata": {},
   "outputs": [
    {
     "name": "stdout",
     "output_type": "stream",
     "text": [
      "Silhouette Score: 1.0\n"
     ]
    }
   ],
   "source": [
    "silhouette_avg2 = silhouette_score(features_standardized2, df['cluster2'])\n",
    "print(f\"Silhouette Score: {silhouette_avg2}\")"
   ]
  },
  {
   "cell_type": "code",
   "execution_count": 16,
   "metadata": {},
   "outputs": [
    {
     "data": {
      "image/png": "[encoded data removed]",
      "text/plain": [
       "<Figure size 640x480 with 2 Axes>"
      ]
     },
     "metadata": {},
     "output_type": "display_data"
    }
   ],
   "source": [
    "plt.scatter(df['user_id'], df['cctv_location'], c=df['cluster'], cmap='viridis')\n",
    "plt.xlabel('User ID')\n",
    "plt.ylabel('CCTV Location')\n",
    "plt.title('K-Means Clustering')\n",
    "plt.colorbar(label='Cluster')\n",
    "plt.show()"
   ]
  },
  {
   "cell_type": "code",
   "execution_count": 17,
   "metadata": {},
   "outputs": [
    {
     "data": {
      "text/plain": [
       "17"
      ]
     },
     "execution_count": 17,
     "metadata": {},
     "output_type": "execute_result"
    }
   ],
   "source": [
    "len(df['cluster'].unique())"
   ]
  },
  {
   "cell_type": "code",
   "execution_count": 18,
   "metadata": {},
   "outputs": [],
   "source": [
    "filtered_df = df[df['user_id'] == 'user-2']\n",
    "filtered_df2 = df[df['user_id'] == 'user-1']\n",
    "filtered_df3 =  df[df['user_id'] == 'user-3']"
   ]
  },
  {
   "cell_type": "code",
   "execution_count": 19,
   "metadata": {},
   "outputs": [
    {
     "data": {
      "text/html": [
       "<div>\n",
       "<style scoped>\n",
       "    .dataframe tbody tr th:only-of-type {\n",
       "        vertical-align: middle;\n",
       "    }\n",
       "\n",
       "    .dataframe tbody tr th {\n",
       "        vertical-align: top;\n",
       "    }\n",
       "\n",
       "    .dataframe thead th {\n",
       "        text-align: right;\n",
       "    }\n",
       "</style>\n",
       "<table border=\"1\" class=\"dataframe\">\n",
       "  <thead>\n",
       "    <tr style=\"text-align: right;\">\n",
       "      <th></th>\n",
       "      <th>user_id</th>\n",
       "      <th>cctv_location</th>\n",
       "      <th>cluster</th>\n",
       "    </tr>\n",
       "  </thead>\n",
       "  <tbody>\n",
       "    <tr>\n",
       "      <th>10</th>\n",
       "      <td>user-2</td>\n",
       "      <td>CCTV-8</td>\n",
       "      <td>1</td>\n",
       "    </tr>\n",
       "    <tr>\n",
       "      <th>11</th>\n",
       "      <td>user-2</td>\n",
       "      <td>CCTV-8</td>\n",
       "      <td>1</td>\n",
       "    </tr>\n",
       "    <tr>\n",
       "      <th>12</th>\n",
       "      <td>user-2</td>\n",
       "      <td>CCTV-8</td>\n",
       "      <td>1</td>\n",
       "    </tr>\n",
       "    <tr>\n",
       "      <th>13</th>\n",
       "      <td>user-2</td>\n",
       "      <td>CCTV-8</td>\n",
       "      <td>1</td>\n",
       "    </tr>\n",
       "    <tr>\n",
       "      <th>14</th>\n",
       "      <td>user-2</td>\n",
       "      <td>CCTV-8</td>\n",
       "      <td>1</td>\n",
       "    </tr>\n",
       "    <tr>\n",
       "      <th>15</th>\n",
       "      <td>user-2</td>\n",
       "      <td>CCTV-22</td>\n",
       "      <td>0</td>\n",
       "    </tr>\n",
       "    <tr>\n",
       "      <th>16</th>\n",
       "      <td>user-2</td>\n",
       "      <td>CCTV-18</td>\n",
       "      <td>12</td>\n",
       "    </tr>\n",
       "    <tr>\n",
       "      <th>17</th>\n",
       "      <td>user-2</td>\n",
       "      <td>CCTV-35</td>\n",
       "      <td>9</td>\n",
       "    </tr>\n",
       "    <tr>\n",
       "      <th>18</th>\n",
       "      <td>user-2</td>\n",
       "      <td>CCTV-11</td>\n",
       "      <td>7</td>\n",
       "    </tr>\n",
       "    <tr>\n",
       "      <th>19</th>\n",
       "      <td>user-2</td>\n",
       "      <td>CCTV-15</td>\n",
       "      <td>7</td>\n",
       "    </tr>\n",
       "  </tbody>\n",
       "</table>\n",
       "</div>"
      ],
      "text/plain": [
       "   user_id cctv_location  cluster\n",
       "10  user-2        CCTV-8        1\n",
       "11  user-2        CCTV-8        1\n",
       "12  user-2        CCTV-8        1\n",
       "13  user-2        CCTV-8        1\n",
       "14  user-2        CCTV-8        1\n",
       "15  user-2       CCTV-22        0\n",
       "16  user-2       CCTV-18       12\n",
       "17  user-2       CCTV-35        9\n",
       "18  user-2       CCTV-11        7\n",
       "19  user-2       CCTV-15        7"
      ]
     },
     "execution_count": 19,
     "metadata": {},
     "output_type": "execute_result"
    }
   ],
   "source": [
    "filtered_df[['user_id', 'cctv_location', 'cluster']]"
   ]
  },
  {
   "cell_type": "code",
   "execution_count": 20,
   "metadata": {},
   "outputs": [
    {
     "data": {
      "text/html": [
       "<div>\n",
       "<style scoped>\n",
       "    .dataframe tbody tr th:only-of-type {\n",
       "        vertical-align: middle;\n",
       "    }\n",
       "\n",
       "    .dataframe tbody tr th {\n",
       "        vertical-align: top;\n",
       "    }\n",
       "\n",
       "    .dataframe thead th {\n",
       "        text-align: right;\n",
       "    }\n",
       "</style>\n",
       "<table border=\"1\" class=\"dataframe\">\n",
       "  <thead>\n",
       "    <tr style=\"text-align: right;\">\n",
       "      <th></th>\n",
       "      <th>user_id</th>\n",
       "      <th>cctv_location</th>\n",
       "      <th>cluster</th>\n",
       "    </tr>\n",
       "  </thead>\n",
       "  <tbody>\n",
       "    <tr>\n",
       "      <th>0</th>\n",
       "      <td>user-1</td>\n",
       "      <td>CCTV-5</td>\n",
       "      <td>3</td>\n",
       "    </tr>\n",
       "    <tr>\n",
       "      <th>1</th>\n",
       "      <td>user-1</td>\n",
       "      <td>CCTV-5</td>\n",
       "      <td>3</td>\n",
       "    </tr>\n",
       "    <tr>\n",
       "      <th>2</th>\n",
       "      <td>user-1</td>\n",
       "      <td>CCTV-5</td>\n",
       "      <td>3</td>\n",
       "    </tr>\n",
       "    <tr>\n",
       "      <th>3</th>\n",
       "      <td>user-1</td>\n",
       "      <td>CCTV-5</td>\n",
       "      <td>3</td>\n",
       "    </tr>\n",
       "    <tr>\n",
       "      <th>4</th>\n",
       "      <td>user-1</td>\n",
       "      <td>CCTV-5</td>\n",
       "      <td>3</td>\n",
       "    </tr>\n",
       "    <tr>\n",
       "      <th>5</th>\n",
       "      <td>user-1</td>\n",
       "      <td>CCTV-10</td>\n",
       "      <td>10</td>\n",
       "    </tr>\n",
       "    <tr>\n",
       "      <th>6</th>\n",
       "      <td>user-1</td>\n",
       "      <td>CCTV-25</td>\n",
       "      <td>13</td>\n",
       "    </tr>\n",
       "    <tr>\n",
       "      <th>7</th>\n",
       "      <td>user-1</td>\n",
       "      <td>CCTV-17</td>\n",
       "      <td>4</td>\n",
       "    </tr>\n",
       "    <tr>\n",
       "      <th>8</th>\n",
       "      <td>user-1</td>\n",
       "      <td>CCTV-40</td>\n",
       "      <td>14</td>\n",
       "    </tr>\n",
       "    <tr>\n",
       "      <th>9</th>\n",
       "      <td>user-1</td>\n",
       "      <td>CCTV-30</td>\n",
       "      <td>8</td>\n",
       "    </tr>\n",
       "  </tbody>\n",
       "</table>\n",
       "</div>"
      ],
      "text/plain": [
       "  user_id cctv_location  cluster\n",
       "0  user-1        CCTV-5        3\n",
       "1  user-1        CCTV-5        3\n",
       "2  user-1        CCTV-5        3\n",
       "3  user-1        CCTV-5        3\n",
       "4  user-1        CCTV-5        3\n",
       "5  user-1       CCTV-10       10\n",
       "6  user-1       CCTV-25       13\n",
       "7  user-1       CCTV-17        4\n",
       "8  user-1       CCTV-40       14\n",
       "9  user-1       CCTV-30        8"
      ]
     },
     "execution_count": 20,
     "metadata": {},
     "output_type": "execute_result"
    }
   ],
   "source": [
    "filtered_df2[['user_id', 'cctv_location', 'cluster']]"
   ]
  },
  {
   "cell_type": "code",
   "execution_count": 21,
   "metadata": {},
   "outputs": [
    {
     "data": {
      "text/html": [
       "<div>\n",
       "<style scoped>\n",
       "    .dataframe tbody tr th:only-of-type {\n",
       "        vertical-align: middle;\n",
       "    }\n",
       "\n",
       "    .dataframe tbody tr th {\n",
       "        vertical-align: top;\n",
       "    }\n",
       "\n",
       "    .dataframe thead th {\n",
       "        text-align: right;\n",
       "    }\n",
       "</style>\n",
       "<table border=\"1\" class=\"dataframe\">\n",
       "  <thead>\n",
       "    <tr style=\"text-align: right;\">\n",
       "      <th></th>\n",
       "      <th>user_id</th>\n",
       "      <th>cctv_location</th>\n",
       "      <th>cluster</th>\n",
       "    </tr>\n",
       "  </thead>\n",
       "  <tbody>\n",
       "    <tr>\n",
       "      <th>20</th>\n",
       "      <td>user-3</td>\n",
       "      <td>CCTV-15</td>\n",
       "      <td>2</td>\n",
       "    </tr>\n",
       "    <tr>\n",
       "      <th>21</th>\n",
       "      <td>user-3</td>\n",
       "      <td>CCTV-15</td>\n",
       "      <td>2</td>\n",
       "    </tr>\n",
       "    <tr>\n",
       "      <th>22</th>\n",
       "      <td>user-3</td>\n",
       "      <td>CCTV-15</td>\n",
       "      <td>2</td>\n",
       "    </tr>\n",
       "    <tr>\n",
       "      <th>23</th>\n",
       "      <td>user-3</td>\n",
       "      <td>CCTV-15</td>\n",
       "      <td>2</td>\n",
       "    </tr>\n",
       "    <tr>\n",
       "      <th>24</th>\n",
       "      <td>user-3</td>\n",
       "      <td>CCTV-15</td>\n",
       "      <td>2</td>\n",
       "    </tr>\n",
       "    <tr>\n",
       "      <th>25</th>\n",
       "      <td>user-3</td>\n",
       "      <td>CCTV-3</td>\n",
       "      <td>15</td>\n",
       "    </tr>\n",
       "    <tr>\n",
       "      <th>26</th>\n",
       "      <td>user-3</td>\n",
       "      <td>CCTV-48</td>\n",
       "      <td>6</td>\n",
       "    </tr>\n",
       "    <tr>\n",
       "      <th>27</th>\n",
       "      <td>user-3</td>\n",
       "      <td>CCTV-29</td>\n",
       "      <td>5</td>\n",
       "    </tr>\n",
       "    <tr>\n",
       "      <th>28</th>\n",
       "      <td>user-3</td>\n",
       "      <td>CCTV-42</td>\n",
       "      <td>16</td>\n",
       "    </tr>\n",
       "    <tr>\n",
       "      <th>29</th>\n",
       "      <td>user-3</td>\n",
       "      <td>CCTV-20</td>\n",
       "      <td>11</td>\n",
       "    </tr>\n",
       "  </tbody>\n",
       "</table>\n",
       "</div>"
      ],
      "text/plain": [
       "   user_id cctv_location  cluster\n",
       "20  user-3       CCTV-15        2\n",
       "21  user-3       CCTV-15        2\n",
       "22  user-3       CCTV-15        2\n",
       "23  user-3       CCTV-15        2\n",
       "24  user-3       CCTV-15        2\n",
       "25  user-3        CCTV-3       15\n",
       "26  user-3       CCTV-48        6\n",
       "27  user-3       CCTV-29        5\n",
       "28  user-3       CCTV-42       16\n",
       "29  user-3       CCTV-20       11"
      ]
     },
     "execution_count": 21,
     "metadata": {},
     "output_type": "execute_result"
    }
   ],
   "source": [
    "filtered_df3[['user_id', 'cctv_location', 'cluster']]"
   ]
  },
  {
   "cell_type": "code",
   "execution_count": 22,
   "metadata": {},
   "outputs": [
    {
     "data": {
      "image/png": "[encoded data removed]",
      "text/plain": [
       "<Figure size 640x480 with 2 Axes>"
      ]
     },
     "metadata": {},
     "output_type": "display_data"
    }
   ],
   "source": [
    "# Plotting\n",
    "plt.scatter(filtered_df['user_id'], filtered_df['cctv_location'], c=filtered_df['cluster'], cmap='viridis')\n",
    "plt.xlabel('User ID')\n",
    "plt.ylabel('CCTV Location')\n",
    "plt.title('K-Means Clustering')\n",
    "plt.colorbar(label='Cluster')\n",
    "plt.show()"
   ]
  },
  {
   "cell_type": "code",
   "execution_count": 23,
   "metadata": {},
   "outputs": [
    {
     "data": {
      "image/png": "[encoded data removed]",
      "text/plain": [
       "<Figure size 640x480 with 1 Axes>"
      ]
     },
     "metadata": {},
     "output_type": "display_data"
    }
   ],
   "source": [
    "cluster_counts = df['cluster'].value_counts()\n",
    "\n",
    "# Plotting the bar chart\n",
    "cluster_counts.plot(kind='bar', color='skyblue')\n",
    "plt.xlabel('Cluster')\n",
    "plt.ylabel('Count')\n",
    "plt.title('Cluster Distribution')\n",
    "plt.show()"
   ]
  },
  {
   "cell_type": "markdown",
   "metadata": {},
   "source": [
    "<h2>DBSCAN</h2>"
   ]
  },
  {
   "cell_type": "code",
   "execution_count": 24,
   "metadata": {},
   "outputs": [],
   "source": [
    "# from sklearn.cluster import DBSCAN"
   ]
  },
  {
   "cell_type": "code",
   "execution_count": 5,
   "metadata": {},
   "outputs": [],
   "source": [
    "import pandas as pd\n",
    "import os"
   ]
  },
  {
   "cell_type": "code",
   "execution_count": 15,
   "metadata": {},
   "outputs": [],
   "source": [
    "\n",
    "# Directory containing CSV files\n",
    "data_directory = 'data/user_active_log/'\n",
    "\n",
    "# List to store DataFrames from each CSV file\n",
    "dfs = []\n",
    "\n",
    "# Iterate over CSV files in the directory\n",
    "for filename in os.listdir(data_directory):\n",
    "    if filename.endswith('.csv'):\n",
    "        file_path = os.path.join(data_directory, filename)\n",
    "        # Read the CSV file into a DataFrame\n",
    "        df = pd.read_csv(file_path)\n",
    "        # Append the DataFrame to the list\n",
    "        dfs.append(df)\n",
    "\n",
    "# Concatenate all DataFrames in the list\n",
    "final_df = pd.concat(dfs, ignore_index=True)\n"
   ]
  },
  {
   "cell_type": "code",
   "execution_count": 8,
   "metadata": {},
   "outputs": [
    {
     "data": {
      "text/html": [
       "<div>\n",
       "<style scoped>\n",
       "    .dataframe tbody tr th:only-of-type {\n",
       "        vertical-align: middle;\n",
       "    }\n",
       "\n",
       "    .dataframe tbody tr th {\n",
       "        vertical-align: top;\n",
       "    }\n",
       "\n",
       "    .dataframe thead th {\n",
       "        text-align: right;\n",
       "    }\n",
       "</style>\n",
       "<table border=\"1\" class=\"dataframe\">\n",
       "  <thead>\n",
       "    <tr style=\"text-align: right;\">\n",
       "      <th></th>\n",
       "      <th>user_id</th>\n",
       "      <th>timestamp</th>\n",
       "    </tr>\n",
       "  </thead>\n",
       "  <tbody>\n",
       "    <tr>\n",
       "      <th>0</th>\n",
       "      <td>user-0_activeLogs</td>\n",
       "      <td>2024-01-18 10:14:15</td>\n",
       "    </tr>\n",
       "    <tr>\n",
       "      <th>1</th>\n",
       "      <td>user-4_activeLogs</td>\n",
       "      <td>2024-01-18 10:14:15</td>\n",
       "    </tr>\n",
       "    <tr>\n",
       "      <th>2</th>\n",
       "      <td>user-1_activeLogs</td>\n",
       "      <td>2024-01-18 10:14:15</td>\n",
       "    </tr>\n",
       "    <tr>\n",
       "      <th>3</th>\n",
       "      <td>user-2_activeLogs</td>\n",
       "      <td>2024-01-18 10:14:15</td>\n",
       "    </tr>\n",
       "    <tr>\n",
       "      <th>4</th>\n",
       "      <td>user-3_activeLogs</td>\n",
       "      <td>2024-01-18 10:14:15</td>\n",
       "    </tr>\n",
       "    <tr>\n",
       "      <th>...</th>\n",
       "      <td>...</td>\n",
       "      <td>...</td>\n",
       "    </tr>\n",
       "    <tr>\n",
       "      <th>9995</th>\n",
       "      <td>user-9993_activeLogs</td>\n",
       "      <td>2024-01-18 10:14:26</td>\n",
       "    </tr>\n",
       "    <tr>\n",
       "      <th>9996</th>\n",
       "      <td>user-9994_activeLogs</td>\n",
       "      <td>2024-01-18 10:14:26</td>\n",
       "    </tr>\n",
       "    <tr>\n",
       "      <th>9997</th>\n",
       "      <td>user-9995_activeLogs</td>\n",
       "      <td>2024-01-18 10:14:26</td>\n",
       "    </tr>\n",
       "    <tr>\n",
       "      <th>9998</th>\n",
       "      <td>user-9997_activeLogs</td>\n",
       "      <td>2024-01-18 10:14:26</td>\n",
       "    </tr>\n",
       "    <tr>\n",
       "      <th>9999</th>\n",
       "      <td>user-0_activeLogs</td>\n",
       "      <td>2024-01-18 10:16:13</td>\n",
       "    </tr>\n",
       "  </tbody>\n",
       "</table>\n",
       "<p>10000 rows × 2 columns</p>\n",
       "</div>"
      ],
      "text/plain": [
       "                   user_id            timestamp\n",
       "0        user-0_activeLogs  2024-01-18 10:14:15\n",
       "1        user-4_activeLogs  2024-01-18 10:14:15\n",
       "2        user-1_activeLogs  2024-01-18 10:14:15\n",
       "3        user-2_activeLogs  2024-01-18 10:14:15\n",
       "4        user-3_activeLogs  2024-01-18 10:14:15\n",
       "...                    ...                  ...\n",
       "9995  user-9993_activeLogs  2024-01-18 10:14:26\n",
       "9996  user-9994_activeLogs  2024-01-18 10:14:26\n",
       "9997  user-9995_activeLogs  2024-01-18 10:14:26\n",
       "9998  user-9997_activeLogs  2024-01-18 10:14:26\n",
       "9999     user-0_activeLogs  2024-01-18 10:16:13\n",
       "\n",
       "[10000 rows x 2 columns]"
      ]
     },
     "execution_count": 8,
     "metadata": {},
     "output_type": "execute_result"
    }
   ],
   "source": [
    "final_df"
   ]
  },
  {
   "cell_type": "code",
   "execution_count": 16,
   "metadata": {},
   "outputs": [
    {
     "name": "stdout",
     "output_type": "stream",
     "text": [
      "Empty DataFrame\n",
      "Columns: [user_id, timestamp]\n",
      "Index: []\n"
     ]
    }
   ],
   "source": [
    "\n",
    "df = final_df\n",
    "\n",
    "# Identify duplicate rows based on the 'user' column\n",
    "duplicate_rows = df[df.duplicated(subset=['user_id'], keep=False)]\n",
    "\n",
    "# Display the duplicate rows\n",
    "print(duplicate_rows)"
   ]
  }
 ],
 "metadata": {
  "kernelspec": {
   "display_name": "Python 3",
   "language": "python",
   "name": "python3"
  },
  "language_info": {
   "codemirror_mode": {
    "name": "ipython",
    "version": 3
   },
   "file_extension": ".py",
   "mimetype": "text/x-python",
   "name": "python",
   "nbconvert_exporter": "python",
   "pygments_lexer": "ipython3",
   "version": "3.10.12"
  }
 },
 "nbformat": 4,
 "nbformat_minor": 2
}
